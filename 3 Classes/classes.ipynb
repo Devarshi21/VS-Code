{
 "cells": [
  {
   "cell_type": "markdown",
   "metadata": {},
   "source": [
    "### Classes"
   ]
  },
  {
   "cell_type": "code",
   "execution_count": 1,
   "metadata": {},
   "outputs": [],
   "source": [
    "class Person:\n",
    "    def __init__(self,name,age,gender):\n",
    "        self.name = name\n",
    "        self.age = age\n",
    "        self.gender = gender\n",
    "\n",
    "    def introduction(self):\n",
    "        print(f\"Name : {self.name}\")\n",
    "        print(f\"Age : {self.age}\")\n",
    "        print(f\"Gender : {self.gender}\")\n",
    "        "
   ]
  },
  {
   "cell_type": "code",
   "execution_count": 2,
   "metadata": {},
   "outputs": [],
   "source": [
    "p1 = Person(\"Dev\", 23, \"Male\")"
   ]
  },
  {
   "cell_type": "code",
   "execution_count": 3,
   "metadata": {},
   "outputs": [
    {
     "name": "stdout",
     "output_type": "stream",
     "text": [
      "Name : Dev\n",
      "Age : 23\n",
      "Gender : Male\n"
     ]
    }
   ],
   "source": [
    "p1.introduction()"
   ]
  },
  {
   "cell_type": "code",
   "execution_count": 4,
   "metadata": {},
   "outputs": [],
   "source": [
    "p1.age = 25"
   ]
  },
  {
   "cell_type": "code",
   "execution_count": 5,
   "metadata": {},
   "outputs": [
    {
     "name": "stdout",
     "output_type": "stream",
     "text": [
      "Name : Dev\n",
      "Age : 25\n",
      "Gender : Male\n"
     ]
    }
   ],
   "source": [
    "p1.introduction()"
   ]
  },
  {
   "cell_type": "markdown",
   "metadata": {},
   "source": [
    "### Bank Class"
   ]
  },
  {
   "cell_type": "code",
   "execution_count": 6,
   "metadata": {},
   "outputs": [],
   "source": [
    "class Account:\n",
    "    def __init__(self,ac_no,name,bal=0):\n",
    "        self.ac_no = ac_no\n",
    "        self.name = name\n",
    "        self.bal = bal\n",
    "\n",
    "    def curr_bal(self):\n",
    "        print(f\"Current Balance : {self.bal}\")\n",
    "\n",
    "    def deposit(self,amt):\n",
    "        self.bal += amt\n",
    "        print(f\"Deposit {amt} in Acc No {self.ac_no}\")\n",
    "        self.curr_bal()\n",
    "\n",
    "    def withdraw(self,amt):\n",
    "        if amt <= self.bal:\n",
    "            self.bal -= amt\n",
    "            print(f\"Withdrawn {amt} from Acc No {self.ac_no}\")\n",
    "        else:\n",
    "            print(\"Insufficient Balance\")\n",
    "        self.curr_bal()\n",
    "\n",
    "    def transfer(self,ac2,amt):\n",
    "        if amt <= self.bal:\n",
    "            self.bal -= amt\n",
    "            ac2.bal += amt\n",
    "            print(f\"{amt} transferred from {self.ac_no} to {ac2.ac_no}\")\n",
    "        else:\n",
    "            print(\"Insufficient Balance\")\n",
    "        self.curr_bal()\n"
   ]
  },
  {
   "cell_type": "code",
   "execution_count": 7,
   "metadata": {},
   "outputs": [],
   "source": [
    "ac1 = Account(1234,\"dev\",1500)"
   ]
  },
  {
   "cell_type": "code",
   "execution_count": 8,
   "metadata": {},
   "outputs": [
    {
     "name": "stdout",
     "output_type": "stream",
     "text": [
      "Current Balance : 1500\n"
     ]
    }
   ],
   "source": [
    "ac1.curr_bal()"
   ]
  },
  {
   "cell_type": "code",
   "execution_count": 9,
   "metadata": {},
   "outputs": [],
   "source": [
    "ac2 = Account(8656,\"chinu\")"
   ]
  },
  {
   "cell_type": "code",
   "execution_count": 10,
   "metadata": {},
   "outputs": [
    {
     "name": "stdout",
     "output_type": "stream",
     "text": [
      "Current Balance : 0\n"
     ]
    }
   ],
   "source": [
    "ac2.curr_bal()"
   ]
  },
  {
   "cell_type": "code",
   "execution_count": 11,
   "metadata": {},
   "outputs": [
    {
     "name": "stdout",
     "output_type": "stream",
     "text": [
      "Deposit 5000 in Acc No 1234\n",
      "Current Balance : 6500\n"
     ]
    }
   ],
   "source": [
    "ac1.deposit(5000)"
   ]
  },
  {
   "cell_type": "code",
   "execution_count": 12,
   "metadata": {},
   "outputs": [
    {
     "name": "stdout",
     "output_type": "stream",
     "text": [
      "4500 transferred from 1234 to 8656\n",
      "Current Balance : 2000\n"
     ]
    }
   ],
   "source": [
    "ac1.transfer(ac2,4500)"
   ]
  },
  {
   "cell_type": "code",
   "execution_count": 13,
   "metadata": {},
   "outputs": [
    {
     "name": "stdout",
     "output_type": "stream",
     "text": [
      "Current Balance : 4500\n"
     ]
    }
   ],
   "source": [
    "ac2.curr_bal()"
   ]
  }
 ],
 "metadata": {
  "kernelspec": {
   "display_name": "venv",
   "language": "python",
   "name": "python3"
  },
  "language_info": {
   "codemirror_mode": {
    "name": "ipython",
    "version": 3
   },
   "file_extension": ".py",
   "mimetype": "text/x-python",
   "name": "python",
   "nbconvert_exporter": "python",
   "pygments_lexer": "ipython3",
   "version": "3.12.2"
  }
 },
 "nbformat": 4,
 "nbformat_minor": 2
}
